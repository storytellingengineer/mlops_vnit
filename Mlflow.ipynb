{
 "cells": [
  {
   "cell_type": "code",
   "execution_count": 1,
   "id": "eed3f38f-38fe-4fb0-9a34-abb014dfa425",
   "metadata": {},
   "outputs": [],
   "source": [
    "# Import necessary libraries\n",
    "from sklearn.datasets import load_iris\n",
    "import mlflow\n",
    "import mlflow.sklearn\n",
    "from sklearn.model_selection import train_test_split\n",
    "from sklearn.linear_model import LogisticRegression\n",
    "from sklearn.metrics import accuracy_score, classification_report\n",
    "\n",
    "# Step 1: Load the Iris dataset\n",
    "iris = load_iris()\n",
    "X = iris.data  # Features: sepal length, sepal width, petal length, petal width\n",
    "y = iris.target  # Labels: 0 = setosa, 1 = versicolor, 2 = virginica\n"
   ]
  },
  {
   "cell_type": "code",
   "execution_count": 2,
   "id": "2aec8481-9519-43bf-9035-9c387f9bd5bd",
   "metadata": {},
   "outputs": [],
   "source": [
    "## enable autologging\n",
    "mlflow.sklearn.autolog()"
   ]
  },
  {
   "cell_type": "code",
   "execution_count": 3,
   "id": "a0a21c91-2111-485c-a045-870b78105650",
   "metadata": {},
   "outputs": [],
   "source": [
    "# Step 2: Split the data into training and testing sets\n",
    "X_train, X_test, y_train, y_test = train_test_split(X, y, test_size=0.3, random_state=42)"
   ]
  },
  {
   "cell_type": "code",
   "execution_count": 4,
   "id": "68dca4e5-5c8f-48df-8af9-96fc0463a988",
   "metadata": {},
   "outputs": [
    {
     "name": "stdout",
     "output_type": "stream",
     "text": [
      "Accuracy: 1.0\n",
      "Classification Report:\n",
      "              precision    recall  f1-score   support\n",
      "\n",
      "      setosa       1.00      1.00      1.00        19\n",
      "  versicolor       1.00      1.00      1.00        13\n",
      "   virginica       1.00      1.00      1.00        13\n",
      "\n",
      "    accuracy                           1.00        45\n",
      "   macro avg       1.00      1.00      1.00        45\n",
      "weighted avg       1.00      1.00      1.00        45\n",
      "\n"
     ]
    }
   ],
   "source": [
    "with mlflow.start_run():\n",
    "    # Step 3: Create a logistic regression model and fit it to the training data\n",
    "    model = LogisticRegression(max_iter=200)  # max_iter set higher to ensure convergence\n",
    "    model.fit(X_train, y_train)\n",
    "    \n",
    "    # Step 4: Predict the labels on the test set\n",
    "    y_pred = model.predict(X_test)\n",
    "    \n",
    "    # Step 5: Evaluate the model\n",
    "    accuracy = accuracy_score(y_test, y_pred)\n",
    "    report = classification_report(y_test, y_pred, target_names=iris.target_names)\n",
    "    \n",
    "    print(f\"Accuracy: {accuracy}\")\n",
    "    mlflow.log_metric(\"accuracy\",accuracy)\n",
    "    print(\"Classification Report:\")\n",
    "    print(report)"
   ]
  },
  {
   "cell_type": "code",
   "execution_count": null,
   "id": "52518efd-19a7-4ce0-a362-55b181e5195b",
   "metadata": {},
   "outputs": [],
   "source": []
  }
 ],
 "metadata": {
  "kernelspec": {
   "display_name": "Python 3 (ipykernel)",
   "language": "python",
   "name": "python3"
  },
  "language_info": {
   "codemirror_mode": {
    "name": "ipython",
    "version": 3
   },
   "file_extension": ".py",
   "mimetype": "text/x-python",
   "name": "python",
   "nbconvert_exporter": "python",
   "pygments_lexer": "ipython3",
   "version": "3.10.9"
  }
 },
 "nbformat": 4,
 "nbformat_minor": 5
}
